{
 "cells": [
  {
   "cell_type": "code",
   "execution_count": 1,
   "id": "1e4923e0-315c-416e-bdfa-7abab181e831",
   "metadata": {},
   "outputs": [
    {
     "name": "stdout",
     "output_type": "stream",
     "text": [
      "Looking in indexes: https://mirrors.tuna.tsinghua.edu.cn/pypi/web/simple\n",
      "Requirement already satisfied: pip in /root/miniconda3/envs/dev/lib/python3.12/site-packages (25.0.1)\n",
      "\u001b[33mWARNING: Running pip as the 'root' user can result in broken permissions and conflicting behaviour with the system package manager, possibly rendering your system unusable. It is recommended to use a virtual environment instead: https://pip.pypa.io/warnings/venv. Use the --root-user-action option if you know what you are doing and want to suppress this warning.\u001b[0m\u001b[33m\n",
      "\u001b[0mNote: you may need to restart the kernel to use updated packages.\n",
      "Looking in indexes: https://mirrors.tuna.tsinghua.edu.cn/pypi/web/simple\n",
      "Requirement already satisfied: nbformat in /root/miniconda3/envs/dev/lib/python3.12/site-packages (5.10.4)\n",
      "Requirement already satisfied: nbclient in /root/miniconda3/envs/dev/lib/python3.12/site-packages (0.10.2)\n",
      "Requirement already satisfied: nbconvert in /root/miniconda3/envs/dev/lib/python3.12/site-packages (7.16.6)\n",
      "Requirement already satisfied: fastjsonschema>=2.15 in /root/miniconda3/envs/dev/lib/python3.12/site-packages (from nbformat) (2.21.1)\n",
      "Requirement already satisfied: jsonschema>=2.6 in /root/miniconda3/envs/dev/lib/python3.12/site-packages (from nbformat) (4.23.0)\n",
      "Requirement already satisfied: jupyter-core!=5.0.*,>=4.12 in /root/miniconda3/envs/dev/lib/python3.12/site-packages (from nbformat) (5.7.2)\n",
      "Requirement already satisfied: traitlets>=5.1 in /root/miniconda3/envs/dev/lib/python3.12/site-packages (from nbformat) (5.14.3)\n",
      "Requirement already satisfied: jupyter-client>=6.1.12 in /root/miniconda3/envs/dev/lib/python3.12/site-packages (from nbclient) (8.6.3)\n",
      "Requirement already satisfied: beautifulsoup4 in /root/miniconda3/envs/dev/lib/python3.12/site-packages (from nbconvert) (4.13.3)\n",
      "Requirement already satisfied: bleach!=5.0.0 in /root/miniconda3/envs/dev/lib/python3.12/site-packages (from bleach[css]!=5.0.0->nbconvert) (6.2.0)\n",
      "Requirement already satisfied: defusedxml in /root/miniconda3/envs/dev/lib/python3.12/site-packages (from nbconvert) (0.7.1)\n",
      "Requirement already satisfied: jinja2>=3.0 in /root/miniconda3/envs/dev/lib/python3.12/site-packages (from nbconvert) (3.1.6)\n",
      "Requirement already satisfied: jupyterlab-pygments in /root/miniconda3/envs/dev/lib/python3.12/site-packages (from nbconvert) (0.3.0)\n",
      "Requirement already satisfied: markupsafe>=2.0 in /root/miniconda3/envs/dev/lib/python3.12/site-packages (from nbconvert) (3.0.2)\n",
      "Requirement already satisfied: mistune<4,>=2.0.3 in /root/miniconda3/envs/dev/lib/python3.12/site-packages (from nbconvert) (3.1.3)\n",
      "Requirement already satisfied: packaging in /root/miniconda3/envs/dev/lib/python3.12/site-packages (from nbconvert) (24.2)\n",
      "Requirement already satisfied: pandocfilters>=1.4.1 in /root/miniconda3/envs/dev/lib/python3.12/site-packages (from nbconvert) (1.5.1)\n",
      "Requirement already satisfied: pygments>=2.4.1 in /root/miniconda3/envs/dev/lib/python3.12/site-packages (from nbconvert) (2.19.1)\n",
      "Requirement already satisfied: webencodings in /root/miniconda3/envs/dev/lib/python3.12/site-packages (from bleach!=5.0.0->bleach[css]!=5.0.0->nbconvert) (0.5.1)\n",
      "Requirement already satisfied: tinycss2<1.5,>=1.1.0 in /root/miniconda3/envs/dev/lib/python3.12/site-packages (from bleach[css]!=5.0.0->nbconvert) (1.4.0)\n",
      "Requirement already satisfied: attrs>=22.2.0 in /root/miniconda3/envs/dev/lib/python3.12/site-packages (from jsonschema>=2.6->nbformat) (25.3.0)\n",
      "Requirement already satisfied: jsonschema-specifications>=2023.03.6 in /root/miniconda3/envs/dev/lib/python3.12/site-packages (from jsonschema>=2.6->nbformat) (2024.10.1)\n",
      "Requirement already satisfied: referencing>=0.28.4 in /root/miniconda3/envs/dev/lib/python3.12/site-packages (from jsonschema>=2.6->nbformat) (0.36.2)\n",
      "Requirement already satisfied: rpds-py>=0.7.1 in /root/miniconda3/envs/dev/lib/python3.12/site-packages (from jsonschema>=2.6->nbformat) (0.23.1)\n",
      "Requirement already satisfied: python-dateutil>=2.8.2 in /root/miniconda3/envs/dev/lib/python3.12/site-packages (from jupyter-client>=6.1.12->nbclient) (2.9.0.post0)\n",
      "Requirement already satisfied: pyzmq>=23.0 in /root/miniconda3/envs/dev/lib/python3.12/site-packages (from jupyter-client>=6.1.12->nbclient) (26.2.0)\n",
      "Requirement already satisfied: tornado>=6.2 in /root/miniconda3/envs/dev/lib/python3.12/site-packages (from jupyter-client>=6.1.12->nbclient) (6.4.2)\n",
      "Requirement already satisfied: platformdirs>=2.5 in /root/miniconda3/envs/dev/lib/python3.12/site-packages (from jupyter-core!=5.0.*,>=4.12->nbformat) (4.3.7)\n",
      "Requirement already satisfied: soupsieve>1.2 in /root/miniconda3/envs/dev/lib/python3.12/site-packages (from beautifulsoup4->nbconvert) (2.6)\n",
      "Requirement already satisfied: typing-extensions>=4.0.0 in /root/miniconda3/envs/dev/lib/python3.12/site-packages (from beautifulsoup4->nbconvert) (4.12.2)\n",
      "Requirement already satisfied: six>=1.5 in /root/miniconda3/envs/dev/lib/python3.12/site-packages (from python-dateutil>=2.8.2->jupyter-client>=6.1.12->nbclient) (1.17.0)\n",
      "\u001b[33mWARNING: Running pip as the 'root' user can result in broken permissions and conflicting behaviour with the system package manager, possibly rendering your system unusable. It is recommended to use a virtual environment instead: https://pip.pypa.io/warnings/venv. Use the --root-user-action option if you know what you are doing and want to suppress this warning.\u001b[0m\u001b[33m\n",
      "\u001b[0mNote: you may need to restart the kernel to use updated packages.\n"
     ]
    }
   ],
   "source": [
    "%pip install --upgrade pip\n",
    "%pip install nbformat nbclient nbconvert"
   ]
  },
  {
   "cell_type": "code",
   "execution_count": 2,
   "id": "1f6791b6",
   "metadata": {},
   "outputs": [
    {
     "name": "stdout",
     "output_type": "stream",
     "text": [
      "Found existing installation: slines 3.2.0.1\n",
      "Uninstalling slines-3.2.0.1:\n",
      "  Successfully uninstalled slines-3.2.0.1\n",
      "\u001b[33mWARNING: Running pip as the 'root' user can result in broken permissions and conflicting behaviour with the system package manager, possibly rendering your system unusable. It is recommended to use a virtual environment instead: https://pip.pypa.io/warnings/venv. Use the --root-user-action option if you know what you are doing and want to suppress this warning.\u001b[0m\u001b[33m\n",
      "\u001b[0mNote: you may need to restart the kernel to use updated packages.\n",
      "Looking in indexes: https://mirrors.tuna.tsinghua.edu.cn/pypi/web/simple\n",
      "Obtaining file:///root/devspces/slines-box/slines\n",
      "  Installing build dependencies ... \u001b[?25ldone\n",
      "\u001b[?25h  Checking if build backend supports build_editable ... \u001b[?25ldone\n",
      "\u001b[?25h  Getting requirements to build editable ... \u001b[?25ldone\n",
      "\u001b[?25h  Preparing editable metadata (pyproject.toml) ... \u001b[?25ldone\n",
      "\u001b[?25hRequirement already satisfied: nbconvert in /root/miniconda3/envs/dev/lib/python3.12/site-packages (from slines==3.2.0.1) (7.16.6)\n",
      "Requirement already satisfied: nbformat in /root/miniconda3/envs/dev/lib/python3.12/site-packages (from slines==3.2.0.1) (5.10.4)\n",
      "Requirement already satisfied: numpy in /root/miniconda3/envs/dev/lib/python3.12/site-packages (from slines==3.2.0.1) (2.2.4)\n",
      "Requirement already satisfied: pyyaml in /root/miniconda3/envs/dev/lib/python3.12/site-packages (from slines==3.2.0.1) (6.0.2)\n",
      "Requirement already satisfied: requests in /root/miniconda3/envs/dev/lib/python3.12/site-packages (from slines==3.2.0.1) (2.32.3)\n",
      "Requirement already satisfied: beautifulsoup4 in /root/miniconda3/envs/dev/lib/python3.12/site-packages (from nbconvert->slines==3.2.0.1) (4.13.3)\n",
      "Requirement already satisfied: bleach!=5.0.0 in /root/miniconda3/envs/dev/lib/python3.12/site-packages (from bleach[css]!=5.0.0->nbconvert->slines==3.2.0.1) (6.2.0)\n",
      "Requirement already satisfied: defusedxml in /root/miniconda3/envs/dev/lib/python3.12/site-packages (from nbconvert->slines==3.2.0.1) (0.7.1)\n",
      "Requirement already satisfied: jinja2>=3.0 in /root/miniconda3/envs/dev/lib/python3.12/site-packages (from nbconvert->slines==3.2.0.1) (3.1.6)\n",
      "Requirement already satisfied: jupyter-core>=4.7 in /root/miniconda3/envs/dev/lib/python3.12/site-packages (from nbconvert->slines==3.2.0.1) (5.7.2)\n",
      "Requirement already satisfied: jupyterlab-pygments in /root/miniconda3/envs/dev/lib/python3.12/site-packages (from nbconvert->slines==3.2.0.1) (0.3.0)\n",
      "Requirement already satisfied: markupsafe>=2.0 in /root/miniconda3/envs/dev/lib/python3.12/site-packages (from nbconvert->slines==3.2.0.1) (3.0.2)\n",
      "Requirement already satisfied: mistune<4,>=2.0.3 in /root/miniconda3/envs/dev/lib/python3.12/site-packages (from nbconvert->slines==3.2.0.1) (3.1.3)\n",
      "Requirement already satisfied: nbclient>=0.5.0 in /root/miniconda3/envs/dev/lib/python3.12/site-packages (from nbconvert->slines==3.2.0.1) (0.10.2)\n",
      "Requirement already satisfied: packaging in /root/miniconda3/envs/dev/lib/python3.12/site-packages (from nbconvert->slines==3.2.0.1) (24.2)\n",
      "Requirement already satisfied: pandocfilters>=1.4.1 in /root/miniconda3/envs/dev/lib/python3.12/site-packages (from nbconvert->slines==3.2.0.1) (1.5.1)\n",
      "Requirement already satisfied: pygments>=2.4.1 in /root/miniconda3/envs/dev/lib/python3.12/site-packages (from nbconvert->slines==3.2.0.1) (2.19.1)\n",
      "Requirement already satisfied: traitlets>=5.1 in /root/miniconda3/envs/dev/lib/python3.12/site-packages (from nbconvert->slines==3.2.0.1) (5.14.3)\n",
      "Requirement already satisfied: fastjsonschema>=2.15 in /root/miniconda3/envs/dev/lib/python3.12/site-packages (from nbformat->slines==3.2.0.1) (2.21.1)\n",
      "Requirement already satisfied: jsonschema>=2.6 in /root/miniconda3/envs/dev/lib/python3.12/site-packages (from nbformat->slines==3.2.0.1) (4.23.0)\n",
      "Requirement already satisfied: charset-normalizer<4,>=2 in /root/miniconda3/envs/dev/lib/python3.12/site-packages (from requests->slines==3.2.0.1) (3.4.1)\n",
      "Requirement already satisfied: idna<4,>=2.5 in /root/miniconda3/envs/dev/lib/python3.12/site-packages (from requests->slines==3.2.0.1) (3.10)\n",
      "Requirement already satisfied: urllib3<3,>=1.21.1 in /root/miniconda3/envs/dev/lib/python3.12/site-packages (from requests->slines==3.2.0.1) (2.3.0)\n",
      "Requirement already satisfied: certifi>=2017.4.17 in /root/miniconda3/envs/dev/lib/python3.12/site-packages (from requests->slines==3.2.0.1) (2025.1.31)\n",
      "Requirement already satisfied: webencodings in /root/miniconda3/envs/dev/lib/python3.12/site-packages (from bleach!=5.0.0->bleach[css]!=5.0.0->nbconvert->slines==3.2.0.1) (0.5.1)\n",
      "Requirement already satisfied: tinycss2<1.5,>=1.1.0 in /root/miniconda3/envs/dev/lib/python3.12/site-packages (from bleach[css]!=5.0.0->nbconvert->slines==3.2.0.1) (1.4.0)\n",
      "Requirement already satisfied: attrs>=22.2.0 in /root/miniconda3/envs/dev/lib/python3.12/site-packages (from jsonschema>=2.6->nbformat->slines==3.2.0.1) (25.3.0)\n",
      "Requirement already satisfied: jsonschema-specifications>=2023.03.6 in /root/miniconda3/envs/dev/lib/python3.12/site-packages (from jsonschema>=2.6->nbformat->slines==3.2.0.1) (2024.10.1)\n",
      "Requirement already satisfied: referencing>=0.28.4 in /root/miniconda3/envs/dev/lib/python3.12/site-packages (from jsonschema>=2.6->nbformat->slines==3.2.0.1) (0.36.2)\n",
      "Requirement already satisfied: rpds-py>=0.7.1 in /root/miniconda3/envs/dev/lib/python3.12/site-packages (from jsonschema>=2.6->nbformat->slines==3.2.0.1) (0.23.1)\n",
      "Requirement already satisfied: platformdirs>=2.5 in /root/miniconda3/envs/dev/lib/python3.12/site-packages (from jupyter-core>=4.7->nbconvert->slines==3.2.0.1) (4.3.7)\n",
      "Requirement already satisfied: jupyter-client>=6.1.12 in /root/miniconda3/envs/dev/lib/python3.12/site-packages (from nbclient>=0.5.0->nbconvert->slines==3.2.0.1) (8.6.3)\n",
      "Requirement already satisfied: soupsieve>1.2 in /root/miniconda3/envs/dev/lib/python3.12/site-packages (from beautifulsoup4->nbconvert->slines==3.2.0.1) (2.6)\n",
      "Requirement already satisfied: typing-extensions>=4.0.0 in /root/miniconda3/envs/dev/lib/python3.12/site-packages (from beautifulsoup4->nbconvert->slines==3.2.0.1) (4.12.2)\n",
      "Requirement already satisfied: python-dateutil>=2.8.2 in /root/miniconda3/envs/dev/lib/python3.12/site-packages (from jupyter-client>=6.1.12->nbclient>=0.5.0->nbconvert->slines==3.2.0.1) (2.9.0.post0)\n",
      "Requirement already satisfied: pyzmq>=23.0 in /root/miniconda3/envs/dev/lib/python3.12/site-packages (from jupyter-client>=6.1.12->nbclient>=0.5.0->nbconvert->slines==3.2.0.1) (26.2.0)\n",
      "Requirement already satisfied: tornado>=6.2 in /root/miniconda3/envs/dev/lib/python3.12/site-packages (from jupyter-client>=6.1.12->nbclient>=0.5.0->nbconvert->slines==3.2.0.1) (6.4.2)\n",
      "Requirement already satisfied: six>=1.5 in /root/miniconda3/envs/dev/lib/python3.12/site-packages (from python-dateutil>=2.8.2->jupyter-client>=6.1.12->nbclient>=0.5.0->nbconvert->slines==3.2.0.1) (1.17.0)\n",
      "Building wheels for collected packages: slines\n",
      "  Building editable for slines (pyproject.toml) ... \u001b[?25ldone\n",
      "\u001b[?25h  Created wheel for slines: filename=slines-3.2.0.1-py3-none-any.whl size=1377 sha256=edcc9f2dc452e75f1be42757dd453de29dbc2f506e2a2fa5d1ab3a95c50aadeb\n",
      "  Stored in directory: /tmp/pip-ephem-wheel-cache-diqw3o6o/wheels/b3/eb/39/d69da2948b0b682a622e66a7a14cb3324ad8be6dfccd611b16\n",
      "Successfully built slines\n",
      "Installing collected packages: slines\n",
      "Successfully installed slines-3.2.0.1\n",
      "\u001b[33mWARNING: Running pip as the 'root' user can result in broken permissions and conflicting behaviour with the system package manager, possibly rendering your system unusable. It is recommended to use a virtual environment instead: https://pip.pypa.io/warnings/venv. Use the --root-user-action option if you know what you are doing and want to suppress this warning.\u001b[0m\u001b[33m\n",
      "\u001b[0mNote: you may need to restart the kernel to use updated packages.\n"
     ]
    }
   ],
   "source": [
    "import os\n",
    "os.chdir(os.path.dirname(os.path.dirname(os.getcwd())))\n",
    "%pip uninstall -y slines\n",
    "%pip install -e ./slines"
   ]
  },
  {
   "cell_type": "code",
   "execution_count": 3,
   "id": "ce0ecfde-9780-4bc9-8ef4-059c87033362",
   "metadata": {},
   "outputs": [
    {
     "name": "stderr",
     "output_type": "stream",
     "text": [
      "2025-03-24 10:39:18,525 - slines.utils.logging - INFO - This is an info message.\n",
      "2025-03-24 10:39:18,526 - slines.utils.logging - WARNING - This is a warning message.\n",
      "2025-03-24 10:39:18,527 - slines.utils.logging - ERROR - This is an error message.\n"
     ]
    }
   ],
   "source": [
    "DEBUG = True\n",
    "TEST = True\n",
    "from slines.utils.logging import init_logger\n",
    "logger = init_logger(is_debug = DEBUG)\n",
    "\n",
    "logger.info(\"This is an info message.\")\n",
    "logger.warning(\"This is a warning message.\")\n",
    "logger.error(\"This is an error message.\")"
   ]
  },
  {
   "cell_type": "code",
   "execution_count": null,
   "id": "38ddfba8-325d-4c02-8aca-5a081552e3a9",
   "metadata": {},
   "outputs": [],
   "source": [
    "%pip install minio"
   ]
  },
  {
   "cell_type": "code",
   "execution_count": 6,
   "id": "09389641",
   "metadata": {},
   "outputs": [
    {
     "name": "stderr",
     "output_type": "stream",
     "text": [
      "/tmp/ipykernel_18191/3947143008.py:4: DeprecationWarning: Call to deprecated function (or staticmethod) download_loader. (`download_loader()` is deprecated. Please install tool using pip install directly instead.)\n",
      "  MinioReader = download_loader(\"MinioReader\")\n"
     ]
    },
    {
     "ename": "ValueError",
     "evalue": "Failed to find python package for class MinioReader",
     "output_type": "error",
     "traceback": [
      "\u001b[31m---------------------------------------------------------------------------\u001b[39m",
      "\u001b[31mValueError\u001b[39m                                Traceback (most recent call last)",
      "\u001b[36mCell\u001b[39m\u001b[36m \u001b[39m\u001b[32mIn[6]\u001b[39m\u001b[32m, line 4\u001b[39m\n\u001b[32m      1\u001b[39m \u001b[38;5;28;01mfrom\u001b[39;00m\u001b[38;5;250m \u001b[39m\u001b[34;01mllama_index\u001b[39;00m\u001b[34;01m.\u001b[39;00m\u001b[34;01mcore\u001b[39;00m\u001b[38;5;250m \u001b[39m\u001b[38;5;28;01mimport\u001b[39;00m download_loader\n\u001b[32m      2\u001b[39m \u001b[38;5;66;03m# from llama_index.readers.minio import MinioReader\u001b[39;00m\n\u001b[32m----> \u001b[39m\u001b[32m4\u001b[39m MinioReader = \u001b[43mdownload_loader\u001b[49m\u001b[43m(\u001b[49m\u001b[33;43m\"\u001b[39;49m\u001b[33;43mMinioReader\u001b[39;49m\u001b[33;43m\"\u001b[39;49m\u001b[43m)\u001b[49m\n\u001b[32m      5\u001b[39m loader = MinioReader(\n\u001b[32m      6\u001b[39m     bucket=\u001b[33m\"\u001b[39m\u001b[33mdocuments\u001b[39m\u001b[33m\"\u001b[39m,\n\u001b[32m      7\u001b[39m     aws_access_id=\u001b[33m\"\u001b[39m\u001b[33mBkYNchMeCo8Q6sRJjGAd\u001b[39m\u001b[33m\"\u001b[39m,\n\u001b[32m      8\u001b[39m     aws_access_secret=\u001b[33m\"\u001b[39m\u001b[33mPNPZtrf7IJ1t6YEqYERIXUrEGseUgBWgZD6VoAIE\u001b[39m\u001b[33m\"\u001b[39m,\n\u001b[32m      9\u001b[39m     s3_endpoint_url=\u001b[33m\"\u001b[39m\u001b[33mlocalhost:29000\u001b[39m\u001b[33m\"\u001b[39m,\n\u001b[32m     10\u001b[39m )\n\u001b[32m     11\u001b[39m documents = loader.load_data()\n",
      "\u001b[36mFile \u001b[39m\u001b[32m~/miniconda3/envs/dev/lib/python3.12/site-packages/deprecated/classic.py:199\u001b[39m, in \u001b[36mClassicAdapter.__call__.<locals>.wrapper_function\u001b[39m\u001b[34m(wrapped_, instance_, args_, kwargs_)\u001b[39m\n\u001b[32m    197\u001b[39m \u001b[38;5;28;01melse\u001b[39;00m:\n\u001b[32m    198\u001b[39m     warnings.warn(msg, category=\u001b[38;5;28mself\u001b[39m.category, stacklevel=stacklevel)\n\u001b[32m--> \u001b[39m\u001b[32m199\u001b[39m \u001b[38;5;28;01mreturn\u001b[39;00m \u001b[43mwrapped_\u001b[49m\u001b[43m(\u001b[49m\u001b[43m*\u001b[49m\u001b[43margs_\u001b[49m\u001b[43m,\u001b[49m\u001b[43m \u001b[49m\u001b[43m*\u001b[49m\u001b[43m*\u001b[49m\u001b[43mkwargs_\u001b[49m\u001b[43m)\u001b[49m\n",
      "\u001b[36mFile \u001b[39m\u001b[32m~/miniconda3/envs/dev/lib/python3.12/site-packages/llama_index/core/readers/download.py:65\u001b[39m, in \u001b[36mdownload_loader\u001b[39m\u001b[34m(***failed resolving arguments***)\u001b[39m\n\u001b[32m     63\u001b[39m     new_install_parent = new_import_parent.replace(\u001b[33m\"\u001b[39m\u001b[33m.\u001b[39m\u001b[33m\"\u001b[39m, \u001b[33m\"\u001b[39m\u001b[33m-\u001b[39m\u001b[33m\"\u001b[39m).replace(\u001b[33m\"\u001b[39m\u001b[33m_\u001b[39m\u001b[33m\"\u001b[39m, \u001b[33m\"\u001b[39m\u001b[33m-\u001b[39m\u001b[33m\"\u001b[39m)\n\u001b[32m     64\u001b[39m \u001b[38;5;28;01melse\u001b[39;00m:\n\u001b[32m---> \u001b[39m\u001b[32m65\u001b[39m     \u001b[38;5;28;01mraise\u001b[39;00m \u001b[38;5;167;01mValueError\u001b[39;00m(\u001b[33mf\u001b[39m\u001b[33m\"\u001b[39m\u001b[33mFailed to find python package for class \u001b[39m\u001b[38;5;132;01m{\u001b[39;00mloader_class\u001b[38;5;132;01m}\u001b[39;00m\u001b[33m\"\u001b[39m)\n\u001b[32m     67\u001b[39m reader_cls = download_integration(\n\u001b[32m     68\u001b[39m     module_str=new_install_parent,\n\u001b[32m     69\u001b[39m     module_import_str=new_import_parent,\n\u001b[32m     70\u001b[39m     cls_name=loader_class,\n\u001b[32m     71\u001b[39m )\n\u001b[32m     72\u001b[39m \u001b[38;5;28;01mif\u001b[39;00m \u001b[38;5;129;01mnot\u001b[39;00m \u001b[38;5;28missubclass\u001b[39m(reader_cls, BaseReader):\n",
      "\u001b[31mValueError\u001b[39m: Failed to find python package for class MinioReader"
     ]
    }
   ],
   "source": [
    "from llama_index.core import download_loader\n",
    "# from llama_index.readers.minio import MinioReader\n",
    "\n",
    "MinioReader = download_loader(\"MinioReader\")\n",
    "loader = MinioReader(\n",
    "    bucket=\"documents\",\n",
    "    aws_access_id=\"BkYNchMeCo8Q6sRJjGAd\",\n",
    "    aws_access_secret=\"PNPZtrf7IJ1t6YEqYERIXUrEGseUgBWgZD6VoAIE\",\n",
    "    s3_endpoint_url=\"localhost:29000\",\n",
    ")\n",
    "documents = loader.load_data()\n"
   ]
  }
 ],
 "metadata": {
  "kernelspec": {
   "display_name": "dev",
   "language": "python",
   "name": "python3"
  },
  "language_info": {
   "codemirror_mode": {
    "name": "ipython",
    "version": 3
   },
   "file_extension": ".py",
   "mimetype": "text/x-python",
   "name": "python",
   "nbconvert_exporter": "python",
   "pygments_lexer": "ipython3",
   "version": "3.12.9"
  }
 },
 "nbformat": 4,
 "nbformat_minor": 5
}
